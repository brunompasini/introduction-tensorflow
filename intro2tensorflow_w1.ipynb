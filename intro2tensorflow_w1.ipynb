{
  "nbformat": 4,
  "nbformat_minor": 0,
  "metadata": {
    "colab": {
      "name": "intro2tensorflow_w1.ipynb",
      "provenance": []
    },
    "kernelspec": {
      "name": "python3",
      "display_name": "Python 3"
    },
    "accelerator": "TPU"
  },
  "cells": [
    {
      "cell_type": "markdown",
      "metadata": {
        "id": "HF1AOvQWbySH",
        "colab_type": "text"
      },
      "source": [
        "Introduction to TensorFlow for Artificial Intelligence, Machine Learning, and Deep Learning\n",
        "\n",
        "by deeplearning.ai @ Coursera\n"
      ]
    },
    {
      "cell_type": "markdown",
      "metadata": {
        "id": "3OxVmPgNcx6Z",
        "colab_type": "text"
      },
      "source": [
        "Week 1\n",
        "#### The hello world of neural networks"
      ]
    },
    {
      "cell_type": "code",
      "metadata": {
        "id": "WySk066hgn4U",
        "colab_type": "code",
        "colab": {}
      },
      "source": [
        "import tensorflow as tf\n",
        "from tensorflow import keras\n",
        "import numpy as np"
      ],
      "execution_count": 1,
      "outputs": []
    },
    {
      "cell_type": "code",
      "metadata": {
        "id": "IuyBG64mcw0m",
        "colab_type": "code",
        "colab": {
          "base_uri": "https://localhost:8080/",
          "height": 1000
        },
        "outputId": "dd5b73ee-3f53-4f31-9494-99e7c9beed6b"
      },
      "source": [
        "#Aula Semana 1\n",
        "\n",
        "#Dense é uma layer de neuronios conectados\n",
        "model = keras.Sequential([keras.layers.Dense(units=1, input_shape=[1])])\n",
        "model.compile(optimizer='sgd', loss='mean_squared_error')\n",
        "#sgd é stochastic gradient descent\n",
        "\n",
        "xs = np.array([-1.0, 0.0, 1.0, 2.0, 3.0 , 4.0],dtype=float)\n",
        "ys = np.array([-3.0, -1.0 , 1.0, 3.0, 5.0 , 7.0],dtype=float)\n",
        "\n",
        "model.fit(xs,ys,epochs=500)\n",
        "\n",
        "print(model.predict([10.0]))"
      ],
      "execution_count": 2,
      "outputs": [
        {
          "output_type": "stream",
          "text": [
            "Epoch 1/500\n",
            "1/1 [==============================] - 0s 1ms/step - loss: 28.7565\n",
            "Epoch 500/500\n",
            "1/1 [==============================] - 0s 967us/step - loss: 5.0700e-05\n",
            "[[18.979225]]\n"
          ],
          "name": "stdout"
        }
      ]
    },
    {
      "cell_type": "code",
      "metadata": {
        "id": "21dghA4pdaaC",
        "colab_type": "code",
        "colab": {
          "base_uri": "https://localhost:8080/",
          "height": 1000
        },
        "outputId": "759fa257-108d-410b-b8e9-a28e9c7eaa75"
      },
      "source": [
        "# Exercicio Semana 1\n",
        "\n",
        "# GRADED FUNCTION: house_model\n",
        "def house_model(y_new):\n",
        "    xs = np.array([1.0, 2.0, 3.0, 4.0],dtype=float)\n",
        "    ys = np.array([1.0, 1.5, 2.0, 2.5], dtype=float)\n",
        "    model = keras.Sequential([keras.layers.Dense(units=1, input_shape=[1])])\n",
        "    model.compile(optimizer='sgd', loss='mean_squared_error')\n",
        "    model.fit(xs,ys,epochs=500)\n",
        "    return model.predict(y_new)[0]\n",
        "prediction = house_model([7.0])\n",
        "print(prediction)"
      ],
      "execution_count": 3,
      "outputs": [
        {
          "output_type": "stream",
          "text": [
            "Epoch 1/500\n",
            "1/1 [==============================] - 0s 1ms/step - loss: 28.0023\n",
            "Epoch 500/500\n",
            "1/1 [==============================] - 0s 2ms/step - loss: 6.7352e-05\n",
            "[3.9723525]\n"
          ],
          "name": "stdout"
        }
      ]
    }
  ]
}
