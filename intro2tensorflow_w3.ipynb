{
  "nbformat": 4,
  "nbformat_minor": 0,
  "metadata": {
    "colab": {
      "name": "intro2tensorflow_w3.ipynb",
      "provenance": []
    },
    "kernelspec": {
      "name": "python3",
      "display_name": "Python 3"
    }
  },
  "cells": [
    {
      "cell_type": "markdown",
      "metadata": {
        "id": "HF1AOvQWbySH",
        "colab_type": "text"
      },
      "source": [
        "# Anotações de Intro to TensorFlow\n",
        "## de deeplearning.ai no Coursera\n"
      ]
    },
    {
      "cell_type": "markdown",
      "metadata": {
        "id": "3OxVmPgNcx6Z",
        "colab_type": "text"
      },
      "source": [
        "#### Week 3\n",
        "\n",
        "Convolutions and Pooling"
      ]
    },
    {
      "cell_type": "code",
      "metadata": {
        "id": "WySk066hgn4U",
        "colab_type": "code",
        "colab": {}
      },
      "source": [
        "import tensorflow as tf\n",
        "from tensorflow import keras\n",
        "import numpy as np"
      ],
      "execution_count": null,
      "outputs": []
    },
    {
      "cell_type": "code",
      "metadata": {
        "id": "IuyBG64mcw0m",
        "colab_type": "code",
        "colab": {}
      },
      "source": [
        "#Aula Semana 3\n",
        "# convolucao envolve um filtro de multiplicacao com vizinhos\n",
        "# ie cada elemento eh combinacao linear dos vizinhos\n",
        "\n",
        "# Pooling diminui tamanho da imagem mantendo caracteristicas/maior valor\n",
        "\n",
        "# primeira conv, 64 filtros 3x3 e relu joga valores negativos fora, shape tem 1 pq eu byte de cor (preto e branco)\n",
        "# segunda linha eh max pooling pq pega maior valor, e pega em quadrados 2x2\n",
        "# adiciona ainda mais uma camada de convolucao e pooling, sendo dividida por 4 (2x2) duas vezes e filtrado duas vezes\n",
        "\n",
        "# model.summary()\n",
        "# output da conv vai perder as bordas (2 pixels em x e dois em y), se filtro fosse 5x5, perderia 2 em cada borda (4 em x, 4 em y)\n",
        "\n",
        "mnist = tf.keras.datasets.fashion_mnist\n",
        "(training_images, training_labels), (test_images, test_labels) = mnist.load_data()\n",
        "\n",
        "training_images = training_images.reshape(60000,28,28,1)\n",
        "training_images = training_images/255.0\n",
        "test_images = test_images.reshape(10000,28,28,1)\n",
        "test_images = test_images/255.0\n",
        "\n",
        "\n",
        "\n",
        "model = tf.keras.models.Sequential([\n",
        "  tf.keras.layers.Conv2D(64, (3,3), activation='relu', input_shape=(28,28,1)),\n",
        "  tf.keras.layers.MaxPooling2D(2,2),\n",
        "  tf.keras.layers.Conv2D(64, (3,3), activation='relu'),\n",
        "  tf.keras.layers.MaxPooling2D(2,2),\n",
        "  tf.keras.layers.Flatten(),\n",
        "  tf.keras.layers.Dense(128, activation='relu'),\n",
        "  tf.keras.layers.Dense(10, activation='softmax')\n",
        "])\n",
        "\n",
        "model.compile(optimizer='adam', loss='sparse_categorical_crossentropy')\n",
        "\n",
        "model.summary()\n",
        "\n",
        "model.fit(training_images, training_labels, epochs=5)\n",
        "\n",
        "test_loss = model.evaluate(test_images, test_labels)\n"
      ],
      "execution_count": null,
      "outputs": []
    },
    {
      "cell_type": "code",
      "metadata": {
        "id": "21dghA4pdaaC",
        "colab_type": "code",
        "colab": {}
      },
      "source": [
        "# Exercicio Semana 3\n",
        "import tensorflow as tf\n",
        "class myCallback(tf.keras.callbacks.Callback):\n",
        "    def on_epoch_end(self,epock,logs={}):\n",
        "        if (logs.get('acc')>0.998):\n",
        "            print(\"\\n Acc is 99.8 or higher, callback\")\n",
        "            self.model.stop_training = True\n",
        "callbacks = myCallback()\n",
        "\n",
        "# GRADED FUNCTION: train_mnist_conv\n",
        "def train_mnist_conv():\n",
        "    # Please write your code only where you are indicated.\n",
        "    # please do not remove model fitting inline comments.\n",
        "\n",
        "    # YOUR CODE STARTS HERE\n",
        "    \n",
        "    # YOUR CODE ENDS HERE\n",
        "\n",
        "    mnist = tf.keras.datasets.mnist\n",
        "    (training_images, training_labels), (test_images, test_labels) = mnist.load_data(path=path)\n",
        "    # YOUR CODE STARTS HERE\n",
        "    training_images = training_images.reshape(-1, 28, 28, 1)\n",
        "    training_images = training_images/255.0\n",
        "    test_images = test_images.reshape(-1, 28, 28, 1)\n",
        "    test_images = test_images/255.0\n",
        "    # YOUR CODE ENDS HERE\n",
        "\n",
        "    model = tf.keras.models.Sequential([\n",
        "            # YOUR CODE STARTS HERE\n",
        "        tf.keras.layers.Conv2D(128, (3,3), activation='relu', input_shape=(28,28,1)),\n",
        "        tf.keras.layers.MaxPooling2D(2,2),\n",
        "        tf.keras.layers.Conv2D(128, (3,3), activation='relu'),\n",
        "        tf.keras.layers.MaxPooling2D(2,2),\n",
        "        tf.keras.layers.Flatten(),\n",
        "        tf.keras.layers.Dense(512, activation='relu'),\n",
        "        tf.keras.layers.Dense(10, activation='softmax')\n",
        "])\n",
        "\n",
        "        # YOUR CODE ENDS HERE\n",
        "\n",
        "\n",
        "    model.compile(optimizer='adam', loss='sparse_categorical_crossentropy', metrics=['accuracy'])\n",
        "    # model fitting\n",
        "    history = model.fit(training_images, training_labels, epochs=20,callbacks=[callbacks])\n",
        "        # YOUR CODE STARTS HERE\n",
        "        # YOUR CODE ENDS HERE\n",
        "    # model fitting\n",
        "    return history.epoch, history.history['acc'][-1]\n",
        "\n",
        "    #model.evaluate(test_images,test_labels)"
      ],
      "execution_count": null,
      "outputs": []
    },
    {
      "cell_type": "code",
      "metadata": {
        "id": "4_7ZqXZZbobe",
        "colab_type": "code",
        "colab": {}
      },
      "source": [
        "a, b = train_mnist_conv()"
      ],
      "execution_count": null,
      "outputs": []
    }
  ]
}